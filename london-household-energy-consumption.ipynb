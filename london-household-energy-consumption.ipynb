{
 "cells": [
  {
   "cell_type": "code",
   "execution_count": 1,
   "id": "31687bb9",
   "metadata": {
    "_cell_guid": "b1076dfc-b9ad-4769-8c92-a6c4dae69d19",
    "_uuid": "8f2839f25d086af736a60e9eeb907d3b93b6e0e5",
    "execution": {
     "iopub.execute_input": "2022-11-08T21:32:49.821058Z",
     "iopub.status.busy": "2022-11-08T21:32:49.820381Z",
     "iopub.status.idle": "2022-11-08T21:32:49.843375Z",
     "shell.execute_reply": "2022-11-08T21:32:49.842083Z"
    },
    "papermill": {
     "duration": 0.034598,
     "end_time": "2022-11-08T21:32:49.846600",
     "exception": false,
     "start_time": "2022-11-08T21:32:49.812002",
     "status": "completed"
    },
    "tags": []
   },
   "outputs": [
    {
     "name": "stdout",
     "output_type": "stream",
     "text": [
      "/kaggle/input/london-homes-energy-data/london_energy.csv\n",
      "/kaggle/input/london-weather-data/london_weather.csv\n"
     ]
    }
   ],
   "source": [
    "# This Python 3 environment comes with many helpful analytics libraries installed\n",
    "# It is defined by the kaggle/python Docker image: https://github.com/kaggle/docker-python\n",
    "# For example, here's several helpful packages to load\n",
    "\n",
    "import numpy as np # linear algebra\n",
    "import pandas as pd # data processing, CSV file I/O (e.g. pd.read_csv)\n",
    "\n",
    "# Input data files are available in the read-only \"../input/\" directory\n",
    "# For example, running this (by clicking run or pressing Shift+Enter) will list all files under the input directory\n",
    "\n",
    "import os\n",
    "for dirname, _, filenames in os.walk('/kaggle/input'):\n",
    "    for filename in filenames:\n",
    "        print(os.path.join(dirname, filename))\n",
    "\n",
    "# You can write up to 20GB to the current directory (/kaggle/working/) that gets preserved as output when you create a version using \"Save & Run All\" \n",
    "# You can also write temporary files to /kaggle/temp/, but they won't be saved outside of the current session"
   ]
  },
  {
   "cell_type": "markdown",
   "id": "2cd793df",
   "metadata": {
    "papermill": {
     "duration": 0.004737,
     "end_time": "2022-11-08T21:32:49.856620",
     "exception": false,
     "start_time": "2022-11-08T21:32:49.851883",
     "status": "completed"
    },
    "tags": []
   },
   "source": [
    "# London Household Energy Consumption\n",
    "\n",
    "EDA practice notebook, found 2 interesting data sets which I'll try to merge and explore"
   ]
  },
  {
   "cell_type": "code",
   "execution_count": 2,
   "id": "f3d8b403",
   "metadata": {
    "execution": {
     "iopub.execute_input": "2022-11-08T21:32:49.868252Z",
     "iopub.status.busy": "2022-11-08T21:32:49.867829Z",
     "iopub.status.idle": "2022-11-08T21:32:52.312190Z",
     "shell.execute_reply": "2022-11-08T21:32:52.310809Z"
    },
    "papermill": {
     "duration": 2.453539,
     "end_time": "2022-11-08T21:32:52.315012",
     "exception": false,
     "start_time": "2022-11-08T21:32:49.861473",
     "status": "completed"
    },
    "tags": []
   },
   "outputs": [
    {
     "name": "stdout",
     "output_type": "stream",
     "text": [
      "(3510433, 3)\n"
     ]
    },
    {
     "data": {
      "text/html": [
       "<div>\n",
       "<style scoped>\n",
       "    .dataframe tbody tr th:only-of-type {\n",
       "        vertical-align: middle;\n",
       "    }\n",
       "\n",
       "    .dataframe tbody tr th {\n",
       "        vertical-align: top;\n",
       "    }\n",
       "\n",
       "    .dataframe thead th {\n",
       "        text-align: right;\n",
       "    }\n",
       "</style>\n",
       "<table border=\"1\" class=\"dataframe\">\n",
       "  <thead>\n",
       "    <tr style=\"text-align: right;\">\n",
       "      <th></th>\n",
       "      <th>LCLid</th>\n",
       "      <th>Date</th>\n",
       "      <th>KWH</th>\n",
       "    </tr>\n",
       "  </thead>\n",
       "  <tbody>\n",
       "    <tr>\n",
       "      <th>0</th>\n",
       "      <td>MAC000002</td>\n",
       "      <td>2012-10-12</td>\n",
       "      <td>7.098</td>\n",
       "    </tr>\n",
       "    <tr>\n",
       "      <th>1</th>\n",
       "      <td>MAC000002</td>\n",
       "      <td>2012-10-13</td>\n",
       "      <td>11.087</td>\n",
       "    </tr>\n",
       "    <tr>\n",
       "      <th>2</th>\n",
       "      <td>MAC000002</td>\n",
       "      <td>2012-10-14</td>\n",
       "      <td>13.223</td>\n",
       "    </tr>\n",
       "    <tr>\n",
       "      <th>3</th>\n",
       "      <td>MAC000002</td>\n",
       "      <td>2012-10-15</td>\n",
       "      <td>10.257</td>\n",
       "    </tr>\n",
       "    <tr>\n",
       "      <th>4</th>\n",
       "      <td>MAC000002</td>\n",
       "      <td>2012-10-16</td>\n",
       "      <td>9.769</td>\n",
       "    </tr>\n",
       "  </tbody>\n",
       "</table>\n",
       "</div>"
      ],
      "text/plain": [
       "       LCLid        Date     KWH\n",
       "0  MAC000002  2012-10-12   7.098\n",
       "1  MAC000002  2012-10-13  11.087\n",
       "2  MAC000002  2012-10-14  13.223\n",
       "3  MAC000002  2012-10-15  10.257\n",
       "4  MAC000002  2012-10-16   9.769"
      ]
     },
     "execution_count": 2,
     "metadata": {},
     "output_type": "execute_result"
    }
   ],
   "source": [
    "df_energy = pd.read_csv('../input/london-homes-energy-data/london_energy.csv')\n",
    "\n",
    "print(df_energy.shape)\n",
    "df_energy.head()\n"
   ]
  },
  {
   "cell_type": "code",
   "execution_count": 3,
   "id": "0c3be3ae",
   "metadata": {
    "execution": {
     "iopub.execute_input": "2022-11-08T21:32:52.327868Z",
     "iopub.status.busy": "2022-11-08T21:32:52.327122Z",
     "iopub.status.idle": "2022-11-08T21:32:52.378513Z",
     "shell.execute_reply": "2022-11-08T21:32:52.377165Z"
    },
    "papermill": {
     "duration": 0.06264,
     "end_time": "2022-11-08T21:32:52.382982",
     "exception": false,
     "start_time": "2022-11-08T21:32:52.320342",
     "status": "completed"
    },
    "tags": []
   },
   "outputs": [
    {
     "name": "stdout",
     "output_type": "stream",
     "text": [
      "(15341, 10)\n"
     ]
    },
    {
     "data": {
      "text/html": [
       "<div>\n",
       "<style scoped>\n",
       "    .dataframe tbody tr th:only-of-type {\n",
       "        vertical-align: middle;\n",
       "    }\n",
       "\n",
       "    .dataframe tbody tr th {\n",
       "        vertical-align: top;\n",
       "    }\n",
       "\n",
       "    .dataframe thead th {\n",
       "        text-align: right;\n",
       "    }\n",
       "</style>\n",
       "<table border=\"1\" class=\"dataframe\">\n",
       "  <thead>\n",
       "    <tr style=\"text-align: right;\">\n",
       "      <th></th>\n",
       "      <th>date</th>\n",
       "      <th>cloud_cover</th>\n",
       "      <th>sunshine</th>\n",
       "      <th>global_radiation</th>\n",
       "      <th>max_temp</th>\n",
       "      <th>mean_temp</th>\n",
       "      <th>min_temp</th>\n",
       "      <th>precipitation</th>\n",
       "      <th>pressure</th>\n",
       "      <th>snow_depth</th>\n",
       "    </tr>\n",
       "  </thead>\n",
       "  <tbody>\n",
       "    <tr>\n",
       "      <th>0</th>\n",
       "      <td>19790101</td>\n",
       "      <td>2.0</td>\n",
       "      <td>7.0</td>\n",
       "      <td>52.0</td>\n",
       "      <td>2.3</td>\n",
       "      <td>-4.1</td>\n",
       "      <td>-7.5</td>\n",
       "      <td>0.4</td>\n",
       "      <td>101900.0</td>\n",
       "      <td>9.0</td>\n",
       "    </tr>\n",
       "    <tr>\n",
       "      <th>1</th>\n",
       "      <td>19790102</td>\n",
       "      <td>6.0</td>\n",
       "      <td>1.7</td>\n",
       "      <td>27.0</td>\n",
       "      <td>1.6</td>\n",
       "      <td>-2.6</td>\n",
       "      <td>-7.5</td>\n",
       "      <td>0.0</td>\n",
       "      <td>102530.0</td>\n",
       "      <td>8.0</td>\n",
       "    </tr>\n",
       "    <tr>\n",
       "      <th>2</th>\n",
       "      <td>19790103</td>\n",
       "      <td>5.0</td>\n",
       "      <td>0.0</td>\n",
       "      <td>13.0</td>\n",
       "      <td>1.3</td>\n",
       "      <td>-2.8</td>\n",
       "      <td>-7.2</td>\n",
       "      <td>0.0</td>\n",
       "      <td>102050.0</td>\n",
       "      <td>4.0</td>\n",
       "    </tr>\n",
       "    <tr>\n",
       "      <th>3</th>\n",
       "      <td>19790104</td>\n",
       "      <td>8.0</td>\n",
       "      <td>0.0</td>\n",
       "      <td>13.0</td>\n",
       "      <td>-0.3</td>\n",
       "      <td>-2.6</td>\n",
       "      <td>-6.5</td>\n",
       "      <td>0.0</td>\n",
       "      <td>100840.0</td>\n",
       "      <td>2.0</td>\n",
       "    </tr>\n",
       "    <tr>\n",
       "      <th>4</th>\n",
       "      <td>19790105</td>\n",
       "      <td>6.0</td>\n",
       "      <td>2.0</td>\n",
       "      <td>29.0</td>\n",
       "      <td>5.6</td>\n",
       "      <td>-0.8</td>\n",
       "      <td>-1.4</td>\n",
       "      <td>0.0</td>\n",
       "      <td>102250.0</td>\n",
       "      <td>1.0</td>\n",
       "    </tr>\n",
       "  </tbody>\n",
       "</table>\n",
       "</div>"
      ],
      "text/plain": [
       "       date  cloud_cover  sunshine  global_radiation  max_temp  mean_temp  \\\n",
       "0  19790101          2.0       7.0              52.0       2.3       -4.1   \n",
       "1  19790102          6.0       1.7              27.0       1.6       -2.6   \n",
       "2  19790103          5.0       0.0              13.0       1.3       -2.8   \n",
       "3  19790104          8.0       0.0              13.0      -0.3       -2.6   \n",
       "4  19790105          6.0       2.0              29.0       5.6       -0.8   \n",
       "\n",
       "   min_temp  precipitation  pressure  snow_depth  \n",
       "0      -7.5            0.4  101900.0         9.0  \n",
       "1      -7.5            0.0  102530.0         8.0  \n",
       "2      -7.2            0.0  102050.0         4.0  \n",
       "3      -6.5            0.0  100840.0         2.0  \n",
       "4      -1.4            0.0  102250.0         1.0  "
      ]
     },
     "execution_count": 3,
     "metadata": {},
     "output_type": "execute_result"
    }
   ],
   "source": [
    "df_weather = pd.read_csv('../input/london-weather-data/london_weather.csv')\n",
    "\n",
    "print(df_weather.shape)\n",
    "df_weather.head()"
   ]
  },
  {
   "cell_type": "markdown",
   "id": "57ca285e",
   "metadata": {
    "papermill": {
     "duration": 0.005155,
     "end_time": "2022-11-08T21:32:52.393762",
     "exception": false,
     "start_time": "2022-11-08T21:32:52.388607",
     "status": "completed"
    },
    "tags": []
   },
   "source": [
    "## Homogenise date features"
   ]
  },
  {
   "cell_type": "code",
   "execution_count": 4,
   "id": "0075c495",
   "metadata": {
    "execution": {
     "iopub.execute_input": "2022-11-08T21:32:52.407281Z",
     "iopub.status.busy": "2022-11-08T21:32:52.406654Z",
     "iopub.status.idle": "2022-11-08T21:32:52.419199Z",
     "shell.execute_reply": "2022-11-08T21:32:52.417961Z"
    },
    "papermill": {
     "duration": 0.022468,
     "end_time": "2022-11-08T21:32:52.421793",
     "exception": false,
     "start_time": "2022-11-08T21:32:52.399325",
     "status": "completed"
    },
    "tags": []
   },
   "outputs": [
    {
     "data": {
      "text/plain": [
       "(dtype('int64'), dtype('O'))"
      ]
     },
     "execution_count": 4,
     "metadata": {},
     "output_type": "execute_result"
    }
   ],
   "source": [
    "# Check date columns dtype\n",
    "\n",
    "df_weather['date'].dtypes, df_energy['Date'].dtypes"
   ]
  },
  {
   "cell_type": "markdown",
   "id": "e860114f",
   "metadata": {
    "papermill": {
     "duration": 0.005374,
     "end_time": "2022-11-08T21:32:52.433132",
     "exception": false,
     "start_time": "2022-11-08T21:32:52.427758",
     "status": "completed"
    },
    "tags": []
   },
   "source": [
    "🔗 To convert YYYY-MM-DD to YYYYMMDD [here](https://stackoverflow.com/questions/43133605/convert-integer-yyyymmdd-to-date-format-mm-dd-yyyy-in-python) and [here](https://stackoverflow.com/questions/9750330/how-to-convert-integer-into-date-object-python)\n",
    "\n",
    "🔗 To convert YYYYMMDD to YYYY-MM-DD [here](https://stackoverflow.com/questions/46834732/convert-pandas-datetime-column-yyyy-mm-dd-to-yyyymmdd)"
   ]
  },
  {
   "cell_type": "code",
   "execution_count": 5,
   "id": "01b1b1ce",
   "metadata": {
    "execution": {
     "iopub.execute_input": "2022-11-08T21:32:52.446886Z",
     "iopub.status.busy": "2022-11-08T21:32:52.445899Z",
     "iopub.status.idle": "2022-11-08T21:32:52.457557Z",
     "shell.execute_reply": "2022-11-08T21:32:52.456200Z"
    },
    "papermill": {
     "duration": 0.021674,
     "end_time": "2022-11-08T21:32:52.460388",
     "exception": false,
     "start_time": "2022-11-08T21:32:52.438714",
     "status": "completed"
    },
    "tags": []
   },
   "outputs": [
    {
     "data": {
      "text/plain": [
       "Index(['LCLid', 'date', 'KWH'], dtype='object')"
      ]
     },
     "execution_count": 5,
     "metadata": {},
     "output_type": "execute_result"
    }
   ],
   "source": [
    "# Rename df_energy date column to be the same as in df_weather\n",
    "\n",
    "df_energy.rename(columns={'Date': 'date'}, inplace=True)\n",
    "\n",
    "df_energy.columns"
   ]
  },
  {
   "cell_type": "markdown",
   "id": "935ea70b",
   "metadata": {
    "papermill": {
     "duration": 0.005422,
     "end_time": "2022-11-08T21:32:52.471790",
     "exception": false,
     "start_time": "2022-11-08T21:32:52.466368",
     "status": "completed"
    },
    "tags": []
   },
   "source": [
    "### Convert date column to pandas datetime object"
   ]
  },
  {
   "cell_type": "code",
   "execution_count": 6,
   "id": "cfe0b020",
   "metadata": {
    "execution": {
     "iopub.execute_input": "2022-11-08T21:32:52.485486Z",
     "iopub.status.busy": "2022-11-08T21:32:52.484985Z",
     "iopub.status.idle": "2022-11-08T21:32:53.243829Z",
     "shell.execute_reply": "2022-11-08T21:32:53.242419Z"
    },
    "papermill": {
     "duration": 0.769046,
     "end_time": "2022-11-08T21:32:53.246613",
     "exception": false,
     "start_time": "2022-11-08T21:32:52.477567",
     "status": "completed"
    },
    "tags": []
   },
   "outputs": [
    {
     "data": {
      "text/html": [
       "<div>\n",
       "<style scoped>\n",
       "    .dataframe tbody tr th:only-of-type {\n",
       "        vertical-align: middle;\n",
       "    }\n",
       "\n",
       "    .dataframe tbody tr th {\n",
       "        vertical-align: top;\n",
       "    }\n",
       "\n",
       "    .dataframe thead th {\n",
       "        text-align: right;\n",
       "    }\n",
       "</style>\n",
       "<table border=\"1\" class=\"dataframe\">\n",
       "  <thead>\n",
       "    <tr style=\"text-align: right;\">\n",
       "      <th></th>\n",
       "      <th>LCLid</th>\n",
       "      <th>date</th>\n",
       "      <th>KWH</th>\n",
       "    </tr>\n",
       "  </thead>\n",
       "  <tbody>\n",
       "    <tr>\n",
       "      <th>0</th>\n",
       "      <td>MAC000002</td>\n",
       "      <td>2012-10-12</td>\n",
       "      <td>7.098</td>\n",
       "    </tr>\n",
       "    <tr>\n",
       "      <th>1</th>\n",
       "      <td>MAC000002</td>\n",
       "      <td>2012-10-13</td>\n",
       "      <td>11.087</td>\n",
       "    </tr>\n",
       "    <tr>\n",
       "      <th>2</th>\n",
       "      <td>MAC000002</td>\n",
       "      <td>2012-10-14</td>\n",
       "      <td>13.223</td>\n",
       "    </tr>\n",
       "    <tr>\n",
       "      <th>3</th>\n",
       "      <td>MAC000002</td>\n",
       "      <td>2012-10-15</td>\n",
       "      <td>10.257</td>\n",
       "    </tr>\n",
       "    <tr>\n",
       "      <th>4</th>\n",
       "      <td>MAC000002</td>\n",
       "      <td>2012-10-16</td>\n",
       "      <td>9.769</td>\n",
       "    </tr>\n",
       "  </tbody>\n",
       "</table>\n",
       "</div>"
      ],
      "text/plain": [
       "       LCLid       date     KWH\n",
       "0  MAC000002 2012-10-12   7.098\n",
       "1  MAC000002 2012-10-13  11.087\n",
       "2  MAC000002 2012-10-14  13.223\n",
       "3  MAC000002 2012-10-15  10.257\n",
       "4  MAC000002 2012-10-16   9.769"
      ]
     },
     "execution_count": 6,
     "metadata": {},
     "output_type": "execute_result"
    }
   ],
   "source": [
    "df_energy['date'] = pd.to_datetime(df_energy['date'].astype('string'))\n",
    "\n",
    "df_energy.head()"
   ]
  },
  {
   "cell_type": "markdown",
   "id": "87eea6fe",
   "metadata": {
    "papermill": {
     "duration": 0.005731,
     "end_time": "2022-11-08T21:32:53.258973",
     "exception": false,
     "start_time": "2022-11-08T21:32:53.253242",
     "status": "completed"
    },
    "tags": []
   },
   "source": [
    "### Convert date column to pandas datetime object"
   ]
  },
  {
   "cell_type": "code",
   "execution_count": 7,
   "id": "e1f2bae2",
   "metadata": {
    "execution": {
     "iopub.execute_input": "2022-11-08T21:32:53.274082Z",
     "iopub.status.busy": "2022-11-08T21:32:53.273629Z",
     "iopub.status.idle": "2022-11-08T21:32:53.310506Z",
     "shell.execute_reply": "2022-11-08T21:32:53.309095Z"
    },
    "papermill": {
     "duration": 0.047356,
     "end_time": "2022-11-08T21:32:53.313321",
     "exception": false,
     "start_time": "2022-11-08T21:32:53.265965",
     "status": "completed"
    },
    "tags": []
   },
   "outputs": [
    {
     "data": {
      "text/html": [
       "<div>\n",
       "<style scoped>\n",
       "    .dataframe tbody tr th:only-of-type {\n",
       "        vertical-align: middle;\n",
       "    }\n",
       "\n",
       "    .dataframe tbody tr th {\n",
       "        vertical-align: top;\n",
       "    }\n",
       "\n",
       "    .dataframe thead th {\n",
       "        text-align: right;\n",
       "    }\n",
       "</style>\n",
       "<table border=\"1\" class=\"dataframe\">\n",
       "  <thead>\n",
       "    <tr style=\"text-align: right;\">\n",
       "      <th></th>\n",
       "      <th>date</th>\n",
       "      <th>cloud_cover</th>\n",
       "      <th>sunshine</th>\n",
       "      <th>global_radiation</th>\n",
       "      <th>max_temp</th>\n",
       "      <th>mean_temp</th>\n",
       "      <th>min_temp</th>\n",
       "      <th>precipitation</th>\n",
       "      <th>pressure</th>\n",
       "      <th>snow_depth</th>\n",
       "    </tr>\n",
       "  </thead>\n",
       "  <tbody>\n",
       "    <tr>\n",
       "      <th>0</th>\n",
       "      <td>1979-01-01</td>\n",
       "      <td>2.0</td>\n",
       "      <td>7.0</td>\n",
       "      <td>52.0</td>\n",
       "      <td>2.3</td>\n",
       "      <td>-4.1</td>\n",
       "      <td>-7.5</td>\n",
       "      <td>0.4</td>\n",
       "      <td>101900.0</td>\n",
       "      <td>9.0</td>\n",
       "    </tr>\n",
       "    <tr>\n",
       "      <th>1</th>\n",
       "      <td>1979-01-02</td>\n",
       "      <td>6.0</td>\n",
       "      <td>1.7</td>\n",
       "      <td>27.0</td>\n",
       "      <td>1.6</td>\n",
       "      <td>-2.6</td>\n",
       "      <td>-7.5</td>\n",
       "      <td>0.0</td>\n",
       "      <td>102530.0</td>\n",
       "      <td>8.0</td>\n",
       "    </tr>\n",
       "    <tr>\n",
       "      <th>2</th>\n",
       "      <td>1979-01-03</td>\n",
       "      <td>5.0</td>\n",
       "      <td>0.0</td>\n",
       "      <td>13.0</td>\n",
       "      <td>1.3</td>\n",
       "      <td>-2.8</td>\n",
       "      <td>-7.2</td>\n",
       "      <td>0.0</td>\n",
       "      <td>102050.0</td>\n",
       "      <td>4.0</td>\n",
       "    </tr>\n",
       "    <tr>\n",
       "      <th>3</th>\n",
       "      <td>1979-01-04</td>\n",
       "      <td>8.0</td>\n",
       "      <td>0.0</td>\n",
       "      <td>13.0</td>\n",
       "      <td>-0.3</td>\n",
       "      <td>-2.6</td>\n",
       "      <td>-6.5</td>\n",
       "      <td>0.0</td>\n",
       "      <td>100840.0</td>\n",
       "      <td>2.0</td>\n",
       "    </tr>\n",
       "    <tr>\n",
       "      <th>4</th>\n",
       "      <td>1979-01-05</td>\n",
       "      <td>6.0</td>\n",
       "      <td>2.0</td>\n",
       "      <td>29.0</td>\n",
       "      <td>5.6</td>\n",
       "      <td>-0.8</td>\n",
       "      <td>-1.4</td>\n",
       "      <td>0.0</td>\n",
       "      <td>102250.0</td>\n",
       "      <td>1.0</td>\n",
       "    </tr>\n",
       "  </tbody>\n",
       "</table>\n",
       "</div>"
      ],
      "text/plain": [
       "        date  cloud_cover  sunshine  global_radiation  max_temp  mean_temp  \\\n",
       "0 1979-01-01          2.0       7.0              52.0       2.3       -4.1   \n",
       "1 1979-01-02          6.0       1.7              27.0       1.6       -2.6   \n",
       "2 1979-01-03          5.0       0.0              13.0       1.3       -2.8   \n",
       "3 1979-01-04          8.0       0.0              13.0      -0.3       -2.6   \n",
       "4 1979-01-05          6.0       2.0              29.0       5.6       -0.8   \n",
       "\n",
       "   min_temp  precipitation  pressure  snow_depth  \n",
       "0      -7.5            0.4  101900.0         9.0  \n",
       "1      -7.5            0.0  102530.0         8.0  \n",
       "2      -7.2            0.0  102050.0         4.0  \n",
       "3      -6.5            0.0  100840.0         2.0  \n",
       "4      -1.4            0.0  102250.0         1.0  "
      ]
     },
     "execution_count": 7,
     "metadata": {},
     "output_type": "execute_result"
    }
   ],
   "source": [
    "df_weather['date'] = pd.to_datetime(df_weather['date'].astype('string'))\n",
    "\n",
    "df_weather.head()"
   ]
  },
  {
   "cell_type": "markdown",
   "id": "5a57b12c",
   "metadata": {
    "papermill": {
     "duration": 0.005492,
     "end_time": "2022-11-08T21:32:53.324926",
     "exception": false,
     "start_time": "2022-11-08T21:32:53.319434",
     "status": "completed"
    },
    "tags": []
   },
   "source": [
    "🔗 Remove rows before a date [here](https://stackoverflow.com/questions/51065979/delete-rows-with-dates-before-the-required-date-point-based-on-key-value)"
   ]
  },
  {
   "cell_type": "markdown",
   "id": "b9dc73af",
   "metadata": {
    "papermill": {
     "duration": 0.005332,
     "end_time": "2022-11-08T21:32:53.336059",
     "exception": false,
     "start_time": "2022-11-08T21:32:53.330727",
     "status": "completed"
    },
    "tags": []
   },
   "source": [
    "### Combine energy and weather dataframes"
   ]
  },
  {
   "cell_type": "code",
   "execution_count": 8,
   "id": "dada3071",
   "metadata": {
    "execution": {
     "iopub.execute_input": "2022-11-08T21:32:53.349576Z",
     "iopub.status.busy": "2022-11-08T21:32:53.349088Z",
     "iopub.status.idle": "2022-11-08T21:32:54.122463Z",
     "shell.execute_reply": "2022-11-08T21:32:54.121122Z"
    },
    "papermill": {
     "duration": 0.783421,
     "end_time": "2022-11-08T21:32:54.125260",
     "exception": false,
     "start_time": "2022-11-08T21:32:53.341839",
     "status": "completed"
    },
    "tags": []
   },
   "outputs": [
    {
     "data": {
      "text/html": [
       "<div>\n",
       "<style scoped>\n",
       "    .dataframe tbody tr th:only-of-type {\n",
       "        vertical-align: middle;\n",
       "    }\n",
       "\n",
       "    .dataframe tbody tr th {\n",
       "        vertical-align: top;\n",
       "    }\n",
       "\n",
       "    .dataframe thead th {\n",
       "        text-align: right;\n",
       "    }\n",
       "</style>\n",
       "<table border=\"1\" class=\"dataframe\">\n",
       "  <thead>\n",
       "    <tr style=\"text-align: right;\">\n",
       "      <th></th>\n",
       "      <th>LCLid</th>\n",
       "      <th>date</th>\n",
       "      <th>KWH</th>\n",
       "      <th>cloud_cover</th>\n",
       "      <th>sunshine</th>\n",
       "      <th>global_radiation</th>\n",
       "      <th>max_temp</th>\n",
       "      <th>mean_temp</th>\n",
       "      <th>min_temp</th>\n",
       "      <th>precipitation</th>\n",
       "      <th>pressure</th>\n",
       "      <th>snow_depth</th>\n",
       "    </tr>\n",
       "  </thead>\n",
       "  <tbody>\n",
       "    <tr>\n",
       "      <th>0</th>\n",
       "      <td>MAC000002</td>\n",
       "      <td>2012-10-12</td>\n",
       "      <td>7.098</td>\n",
       "      <td>5.0</td>\n",
       "      <td>6.4</td>\n",
       "      <td>106.0</td>\n",
       "      <td>13.5</td>\n",
       "      <td>12.3</td>\n",
       "      <td>9.7</td>\n",
       "      <td>0.0</td>\n",
       "      <td>100580.0</td>\n",
       "      <td>0.0</td>\n",
       "    </tr>\n",
       "    <tr>\n",
       "      <th>1</th>\n",
       "      <td>MAC000003</td>\n",
       "      <td>2012-10-12</td>\n",
       "      <td>13.434</td>\n",
       "      <td>5.0</td>\n",
       "      <td>6.4</td>\n",
       "      <td>106.0</td>\n",
       "      <td>13.5</td>\n",
       "      <td>12.3</td>\n",
       "      <td>9.7</td>\n",
       "      <td>0.0</td>\n",
       "      <td>100580.0</td>\n",
       "      <td>0.0</td>\n",
       "    </tr>\n",
       "    <tr>\n",
       "      <th>2</th>\n",
       "      <td>MAC000004</td>\n",
       "      <td>2012-10-12</td>\n",
       "      <td>1.522</td>\n",
       "      <td>5.0</td>\n",
       "      <td>6.4</td>\n",
       "      <td>106.0</td>\n",
       "      <td>13.5</td>\n",
       "      <td>12.3</td>\n",
       "      <td>9.7</td>\n",
       "      <td>0.0</td>\n",
       "      <td>100580.0</td>\n",
       "      <td>0.0</td>\n",
       "    </tr>\n",
       "    <tr>\n",
       "      <th>3</th>\n",
       "      <td>MAC000005</td>\n",
       "      <td>2012-10-12</td>\n",
       "      <td>4.448</td>\n",
       "      <td>5.0</td>\n",
       "      <td>6.4</td>\n",
       "      <td>106.0</td>\n",
       "      <td>13.5</td>\n",
       "      <td>12.3</td>\n",
       "      <td>9.7</td>\n",
       "      <td>0.0</td>\n",
       "      <td>100580.0</td>\n",
       "      <td>0.0</td>\n",
       "    </tr>\n",
       "    <tr>\n",
       "      <th>4</th>\n",
       "      <td>MAC000006</td>\n",
       "      <td>2012-10-12</td>\n",
       "      <td>4.074</td>\n",
       "      <td>5.0</td>\n",
       "      <td>6.4</td>\n",
       "      <td>106.0</td>\n",
       "      <td>13.5</td>\n",
       "      <td>12.3</td>\n",
       "      <td>9.7</td>\n",
       "      <td>0.0</td>\n",
       "      <td>100580.0</td>\n",
       "      <td>0.0</td>\n",
       "    </tr>\n",
       "  </tbody>\n",
       "</table>\n",
       "</div>"
      ],
      "text/plain": [
       "       LCLid       date     KWH  cloud_cover  sunshine  global_radiation  \\\n",
       "0  MAC000002 2012-10-12   7.098          5.0       6.4             106.0   \n",
       "1  MAC000003 2012-10-12  13.434          5.0       6.4             106.0   \n",
       "2  MAC000004 2012-10-12   1.522          5.0       6.4             106.0   \n",
       "3  MAC000005 2012-10-12   4.448          5.0       6.4             106.0   \n",
       "4  MAC000006 2012-10-12   4.074          5.0       6.4             106.0   \n",
       "\n",
       "   max_temp  mean_temp  min_temp  precipitation  pressure  snow_depth  \n",
       "0      13.5       12.3       9.7            0.0  100580.0         0.0  \n",
       "1      13.5       12.3       9.7            0.0  100580.0         0.0  \n",
       "2      13.5       12.3       9.7            0.0  100580.0         0.0  \n",
       "3      13.5       12.3       9.7            0.0  100580.0         0.0  \n",
       "4      13.5       12.3       9.7            0.0  100580.0         0.0  "
      ]
     },
     "execution_count": 8,
     "metadata": {},
     "output_type": "execute_result"
    }
   ],
   "source": [
    "df_energy['date'].astype('datetime64[ns]')\n",
    "df_weather['date'].astype('datetime64[ns]')\n",
    "\n",
    "df = df_energy.merge(df_weather, on='date')\n",
    "df.head()"
   ]
  },
  {
   "cell_type": "code",
   "execution_count": 9,
   "id": "4170e93e",
   "metadata": {
    "execution": {
     "iopub.execute_input": "2022-11-08T21:32:54.141044Z",
     "iopub.status.busy": "2022-11-08T21:32:54.140619Z",
     "iopub.status.idle": "2022-11-08T21:32:54.148702Z",
     "shell.execute_reply": "2022-11-08T21:32:54.147626Z"
    },
    "papermill": {
     "duration": 0.018195,
     "end_time": "2022-11-08T21:32:54.151217",
     "exception": false,
     "start_time": "2022-11-08T21:32:54.133022",
     "status": "completed"
    },
    "tags": []
   },
   "outputs": [
    {
     "data": {
      "text/plain": [
       "(3510433, 12)"
      ]
     },
     "execution_count": 9,
     "metadata": {},
     "output_type": "execute_result"
    }
   ],
   "source": [
    "df.shape"
   ]
  },
  {
   "cell_type": "code",
   "execution_count": 10,
   "id": "6ba09183",
   "metadata": {
    "execution": {
     "iopub.execute_input": "2022-11-08T21:32:54.166600Z",
     "iopub.status.busy": "2022-11-08T21:32:54.165449Z",
     "iopub.status.idle": "2022-11-08T21:33:08.586987Z",
     "shell.execute_reply": "2022-11-08T21:33:08.585778Z"
    },
    "papermill": {
     "duration": 14.432057,
     "end_time": "2022-11-08T21:33:08.589588",
     "exception": false,
     "start_time": "2022-11-08T21:32:54.157531",
     "status": "completed"
    },
    "tags": []
   },
   "outputs": [
    {
     "data": {
      "text/plain": [
       "(Timestamp('2011-11-23 00:00:00'), Timestamp('2014-02-28 00:00:00'))"
      ]
     },
     "execution_count": 10,
     "metadata": {},
     "output_type": "execute_result"
    }
   ],
   "source": [
    "# Check earliest and latest dates\n",
    "\n",
    "earliest = min(df['date'])\n",
    "latest = max(df['date'])\n",
    "\n",
    "earliest, latest"
   ]
  },
  {
   "cell_type": "code",
   "execution_count": null,
   "id": "a3fe9c1f",
   "metadata": {
    "papermill": {
     "duration": 0.006173,
     "end_time": "2022-11-08T21:33:08.602348",
     "exception": false,
     "start_time": "2022-11-08T21:33:08.596175",
     "status": "completed"
    },
    "tags": []
   },
   "outputs": [],
   "source": []
  }
 ],
 "metadata": {
  "kernelspec": {
   "display_name": "Python 3",
   "language": "python",
   "name": "python3"
  },
  "language_info": {
   "codemirror_mode": {
    "name": "ipython",
    "version": 3
   },
   "file_extension": ".py",
   "mimetype": "text/x-python",
   "name": "python",
   "nbconvert_exporter": "python",
   "pygments_lexer": "ipython3",
   "version": "3.7.12"
  },
  "papermill": {
   "default_parameters": {},
   "duration": 28.316075,
   "end_time": "2022-11-08T21:33:09.332107",
   "environment_variables": {},
   "exception": null,
   "input_path": "__notebook__.ipynb",
   "output_path": "__notebook__.ipynb",
   "parameters": {},
   "start_time": "2022-11-08T21:32:41.016032",
   "version": "2.3.4"
  }
 },
 "nbformat": 4,
 "nbformat_minor": 5
}
